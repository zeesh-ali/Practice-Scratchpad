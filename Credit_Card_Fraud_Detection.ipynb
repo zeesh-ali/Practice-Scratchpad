{
  "nbformat": 4,
  "nbformat_minor": 0,
  "metadata": {
    "colab": {
      "name": "Credit Card Fraud Detection.ipynb",
      "provenance": [],
      "collapsed_sections": [],
      "include_colab_link": true
    },
    "kernelspec": {
      "name": "python3",
      "display_name": "Python 3"
    }
  },
  "cells": [
    {
      "cell_type": "markdown",
      "metadata": {
        "id": "view-in-github",
        "colab_type": "text"
      },
      "source": [
        "<a href=\"https://colab.research.google.com/github/zeesh-ali/Practice-Scratchpad/blob/master/Credit_Card_Fraud_Detection.ipynb\" target=\"_parent\"><img src=\"https://colab.research.google.com/assets/colab-badge.svg\" alt=\"Open In Colab\"/></a>"
      ]
    },
    {
      "cell_type": "code",
      "metadata": {
        "id": "9d4bcPFpjaLJ",
        "colab_type": "code",
        "colab": {
          "base_uri": "https://localhost:8080/",
          "height": 54
        },
        "outputId": "e44c56ea-00e8-44dd-bdbe-71f236e6a35d"
      },
      "source": [
        "from google.colab import drive\n",
        "drive.mount('/content/drive')"
      ],
      "execution_count": 5,
      "outputs": [
        {
          "output_type": "stream",
          "text": [
            "Drive already mounted at /content/drive; to attempt to forcibly remount, call drive.mount(\"/content/drive\", force_remount=True).\n"
          ],
          "name": "stdout"
        }
      ]
    },
    {
      "cell_type": "code",
      "metadata": {
        "id": "RofrUZiHgWsx",
        "colab_type": "code",
        "colab": {}
      },
      "source": [
        "import numpy as np\n",
        "import sklearn as sk\n",
        "import pandas as pd\n",
        "from sklearn.preprocessing import scale\n",
        "import matplotlib.pyplot as plt\n",
        "import random\n",
        "import os\n",
        "import seaborn as sns\n",
        "import matplotlib.pyplot as plt\n",
        "sns.set(style=\"ticks\", color_codes=True)"
      ],
      "execution_count": 0,
      "outputs": []
    },
    {
      "cell_type": "code",
      "metadata": {
        "id": "6WnILSvsphKj",
        "colab_type": "code",
        "colab": {
          "base_uri": "https://localhost:8080/",
          "height": 224
        },
        "outputId": "016dd7f2-301d-4088-8849-7df1e5b52f76"
      },
      "source": [
        "#Load data\n",
        "df=pd.read_csv('creditcard.csv',low_memory=False)\n",
        "#Shuffle Data\n",
        "df=df.sample(frac=1).reset_index(drop=True)\n",
        "\n",
        "#First few records\n",
        "df.head()"
      ],
      "execution_count": 5,
      "outputs": [
        {
          "output_type": "execute_result",
          "data": {
            "text/html": [
              "<div>\n",
              "<style scoped>\n",
              "    .dataframe tbody tr th:only-of-type {\n",
              "        vertical-align: middle;\n",
              "    }\n",
              "\n",
              "    .dataframe tbody tr th {\n",
              "        vertical-align: top;\n",
              "    }\n",
              "\n",
              "    .dataframe thead th {\n",
              "        text-align: right;\n",
              "    }\n",
              "</style>\n",
              "<table border=\"1\" class=\"dataframe\">\n",
              "  <thead>\n",
              "    <tr style=\"text-align: right;\">\n",
              "      <th></th>\n",
              "      <th>Time</th>\n",
              "      <th>V1</th>\n",
              "      <th>V2</th>\n",
              "      <th>V3</th>\n",
              "      <th>V4</th>\n",
              "      <th>V5</th>\n",
              "      <th>V6</th>\n",
              "      <th>V7</th>\n",
              "      <th>V8</th>\n",
              "      <th>V9</th>\n",
              "      <th>V10</th>\n",
              "      <th>V11</th>\n",
              "      <th>V12</th>\n",
              "      <th>V13</th>\n",
              "      <th>V14</th>\n",
              "      <th>V15</th>\n",
              "      <th>V16</th>\n",
              "      <th>V17</th>\n",
              "      <th>V18</th>\n",
              "      <th>V19</th>\n",
              "      <th>V20</th>\n",
              "      <th>V21</th>\n",
              "      <th>V22</th>\n",
              "      <th>V23</th>\n",
              "      <th>V24</th>\n",
              "      <th>V25</th>\n",
              "      <th>V26</th>\n",
              "      <th>V27</th>\n",
              "      <th>V28</th>\n",
              "      <th>Amount</th>\n",
              "      <th>Class</th>\n",
              "    </tr>\n",
              "  </thead>\n",
              "  <tbody>\n",
              "    <tr>\n",
              "      <th>0</th>\n",
              "      <td>79014.0</td>\n",
              "      <td>1.156507</td>\n",
              "      <td>-0.239858</td>\n",
              "      <td>1.217016</td>\n",
              "      <td>0.878190</td>\n",
              "      <td>-1.148525</td>\n",
              "      <td>-0.308118</td>\n",
              "      <td>-0.644057</td>\n",
              "      <td>0.100589</td>\n",
              "      <td>1.010371</td>\n",
              "      <td>-0.230507</td>\n",
              "      <td>-0.827900</td>\n",
              "      <td>0.155776</td>\n",
              "      <td>-0.485882</td>\n",
              "      <td>-0.298262</td>\n",
              "      <td>0.260411</td>\n",
              "      <td>0.191123</td>\n",
              "      <td>-0.145407</td>\n",
              "      <td>-0.165989</td>\n",
              "      <td>-0.039000</td>\n",
              "      <td>-0.108186</td>\n",
              "      <td>-0.090438</td>\n",
              "      <td>-0.121732</td>\n",
              "      <td>0.026009</td>\n",
              "      <td>0.414591</td>\n",
              "      <td>0.232392</td>\n",
              "      <td>0.317132</td>\n",
              "      <td>0.010950</td>\n",
              "      <td>0.028386</td>\n",
              "      <td>21.84</td>\n",
              "      <td>0</td>\n",
              "    </tr>\n",
              "    <tr>\n",
              "      <th>1</th>\n",
              "      <td>2923.0</td>\n",
              "      <td>-0.145408</td>\n",
              "      <td>-0.223494</td>\n",
              "      <td>0.989614</td>\n",
              "      <td>-1.617944</td>\n",
              "      <td>-0.906751</td>\n",
              "      <td>-0.517113</td>\n",
              "      <td>0.056566</td>\n",
              "      <td>-0.163400</td>\n",
              "      <td>-2.581016</td>\n",
              "      <td>1.271874</td>\n",
              "      <td>-0.418711</td>\n",
              "      <td>-1.522335</td>\n",
              "      <td>-0.454413</td>\n",
              "      <td>0.030534</td>\n",
              "      <td>0.819333</td>\n",
              "      <td>-1.189902</td>\n",
              "      <td>1.173991</td>\n",
              "      <td>-0.655925</td>\n",
              "      <td>0.487524</td>\n",
              "      <td>-0.315990</td>\n",
              "      <td>-0.410096</td>\n",
              "      <td>-0.874352</td>\n",
              "      <td>0.229495</td>\n",
              "      <td>-0.005571</td>\n",
              "      <td>-0.811642</td>\n",
              "      <td>-0.513423</td>\n",
              "      <td>0.067897</td>\n",
              "      <td>0.151186</td>\n",
              "      <td>59.95</td>\n",
              "      <td>0</td>\n",
              "    </tr>\n",
              "    <tr>\n",
              "      <th>2</th>\n",
              "      <td>53370.0</td>\n",
              "      <td>-2.523387</td>\n",
              "      <td>-5.909589</td>\n",
              "      <td>-2.114549</td>\n",
              "      <td>2.687717</td>\n",
              "      <td>-1.718946</td>\n",
              "      <td>0.788347</td>\n",
              "      <td>2.621447</td>\n",
              "      <td>-0.387473</td>\n",
              "      <td>-0.304783</td>\n",
              "      <td>-0.750191</td>\n",
              "      <td>0.892566</td>\n",
              "      <td>0.679213</td>\n",
              "      <td>-0.546673</td>\n",
              "      <td>1.030015</td>\n",
              "      <td>-0.116778</td>\n",
              "      <td>-0.091479</td>\n",
              "      <td>-0.105836</td>\n",
              "      <td>0.193688</td>\n",
              "      <td>-0.682011</td>\n",
              "      <td>3.676626</td>\n",
              "      <td>1.174960</td>\n",
              "      <td>-0.840642</td>\n",
              "      <td>-1.850154</td>\n",
              "      <td>-0.213490</td>\n",
              "      <td>0.052666</td>\n",
              "      <td>-0.429891</td>\n",
              "      <td>-0.344994</td>\n",
              "      <td>0.328743</td>\n",
              "      <td>1918.50</td>\n",
              "      <td>0</td>\n",
              "    </tr>\n",
              "    <tr>\n",
              "      <th>3</th>\n",
              "      <td>155001.0</td>\n",
              "      <td>0.066749</td>\n",
              "      <td>0.851164</td>\n",
              "      <td>-0.094893</td>\n",
              "      <td>-0.959827</td>\n",
              "      <td>1.092022</td>\n",
              "      <td>-0.110306</td>\n",
              "      <td>0.927960</td>\n",
              "      <td>-0.022168</td>\n",
              "      <td>-0.379057</td>\n",
              "      <td>-0.274919</td>\n",
              "      <td>0.065983</td>\n",
              "      <td>1.017351</td>\n",
              "      <td>1.059811</td>\n",
              "      <td>0.062074</td>\n",
              "      <td>-1.086339</td>\n",
              "      <td>0.299027</td>\n",
              "      <td>-1.031376</td>\n",
              "      <td>-0.124800</td>\n",
              "      <td>0.515444</td>\n",
              "      <td>0.056956</td>\n",
              "      <td>-0.260552</td>\n",
              "      <td>-0.546238</td>\n",
              "      <td>-0.079138</td>\n",
              "      <td>-1.076986</td>\n",
              "      <td>-0.365491</td>\n",
              "      <td>0.186592</td>\n",
              "      <td>0.252082</td>\n",
              "      <td>0.078219</td>\n",
              "      <td>0.99</td>\n",
              "      <td>0</td>\n",
              "    </tr>\n",
              "    <tr>\n",
              "      <th>4</th>\n",
              "      <td>50203.0</td>\n",
              "      <td>1.155321</td>\n",
              "      <td>0.043337</td>\n",
              "      <td>1.090059</td>\n",
              "      <td>1.191468</td>\n",
              "      <td>-0.752919</td>\n",
              "      <td>-0.189142</td>\n",
              "      <td>-0.494483</td>\n",
              "      <td>0.037733</td>\n",
              "      <td>0.460434</td>\n",
              "      <td>-0.020759</td>\n",
              "      <td>-0.712901</td>\n",
              "      <td>0.278712</td>\n",
              "      <td>0.643166</td>\n",
              "      <td>-0.151745</td>\n",
              "      <td>1.391236</td>\n",
              "      <td>0.773618</td>\n",
              "      <td>-0.864496</td>\n",
              "      <td>0.430769</td>\n",
              "      <td>-0.588907</td>\n",
              "      <td>-0.032867</td>\n",
              "      <td>0.114157</td>\n",
              "      <td>0.341117</td>\n",
              "      <td>-0.082357</td>\n",
              "      <td>0.039796</td>\n",
              "      <td>0.395977</td>\n",
              "      <td>-0.328311</td>\n",
              "      <td>0.061702</td>\n",
              "      <td>0.042211</td>\n",
              "      <td>29.50</td>\n",
              "      <td>0</td>\n",
              "    </tr>\n",
              "  </tbody>\n",
              "</table>\n",
              "</div>"
            ],
            "text/plain": [
              "       Time        V1        V2        V3  ...       V27       V28   Amount  Class\n",
              "0   79014.0  1.156507 -0.239858  1.217016  ...  0.010950  0.028386    21.84      0\n",
              "1    2923.0 -0.145408 -0.223494  0.989614  ...  0.067897  0.151186    59.95      0\n",
              "2   53370.0 -2.523387 -5.909589 -2.114549  ... -0.344994  0.328743  1918.50      0\n",
              "3  155001.0  0.066749  0.851164 -0.094893  ...  0.252082  0.078219     0.99      0\n",
              "4   50203.0  1.155321  0.043337  1.090059  ...  0.061702  0.042211    29.50      0\n",
              "\n",
              "[5 rows x 31 columns]"
            ]
          },
          "metadata": {
            "tags": []
          },
          "execution_count": 5
        }
      ]
    },
    {
      "cell_type": "code",
      "metadata": {
        "id": "wGdycYutsiFF",
        "colab_type": "code",
        "colab": {
          "base_uri": "https://localhost:8080/",
          "height": 1000
        },
        "outputId": "520424ce-0110-4674-e53e-ab5039ee05c7"
      },
      "source": [
        "#EDA\n",
        "print('Dimension of the dataset',df.shape)\n",
        "print('Columns',df.columns,'\\n')\n",
        "print('NULL values\\n',df.isnull().sum())\n",
        "print('Statistical Summary\\n',df.describe())\n",
        "print('Corr Matrix\\n',df.corr())\n",
        "fr=df.loc[df['Class']==1]  #Fraudulent\n",
        "nfr=df.loc[df['Class']==0] #Non Fradulent\n",
        "print('No. of fradulent',len(fr))   #No. of fradulent\n",
        "print('No. of Normal Non fraudulent',len(nfr))   #No. of Normal\n"
      ],
      "execution_count": 14,
      "outputs": [
        {
          "output_type": "stream",
          "text": [
            "Dimension of the dataset (284807, 31)\n",
            "Columns Index(['Time', 'V1', 'V2', 'V3', 'V4', 'V5', 'V6', 'V7', 'V8', 'V9', 'V10',\n",
            "       'V11', 'V12', 'V13', 'V14', 'V15', 'V16', 'V17', 'V18', 'V19', 'V20',\n",
            "       'V21', 'V22', 'V23', 'V24', 'V25', 'V26', 'V27', 'V28', 'Amount',\n",
            "       'Class'],\n",
            "      dtype='object') \n",
            "\n",
            "NULL values\n",
            " Time      0\n",
            "V1        0\n",
            "V2        0\n",
            "V3        0\n",
            "V4        0\n",
            "V5        0\n",
            "V6        0\n",
            "V7        0\n",
            "V8        0\n",
            "V9        0\n",
            "V10       0\n",
            "V11       0\n",
            "V12       0\n",
            "V13       0\n",
            "V14       0\n",
            "V15       0\n",
            "V16       0\n",
            "V17       0\n",
            "V18       0\n",
            "V19       0\n",
            "V20       0\n",
            "V21       0\n",
            "V22       0\n",
            "V23       0\n",
            "V24       0\n",
            "V25       0\n",
            "V26       0\n",
            "V27       0\n",
            "V28       0\n",
            "Amount    0\n",
            "Class     0\n",
            "dtype: int64\n",
            "Statistical Summary\n",
            "                 Time            V1  ...         Amount          Class\n",
            "count  284807.000000  2.848070e+05  ...  284807.000000  284807.000000\n",
            "mean    94813.859575  1.207409e-15  ...      88.349619       0.001727\n",
            "std     47488.145955  1.958696e+00  ...     250.120109       0.041527\n",
            "min         0.000000 -5.640751e+01  ...       0.000000       0.000000\n",
            "25%     54201.500000 -9.203734e-01  ...       5.600000       0.000000\n",
            "50%     84692.000000  1.810880e-02  ...      22.000000       0.000000\n",
            "75%    139320.500000  1.315642e+00  ...      77.165000       0.000000\n",
            "max    172792.000000  2.454930e+00  ...   25691.160000       1.000000\n",
            "\n",
            "[8 rows x 31 columns]\n",
            "Corr Matrix\n",
            "             Time            V1            V2  ...           V28    Amount     Class\n",
            "Time    1.000000  1.173963e-01 -1.059333e-02  ... -9.412688e-03 -0.010596 -0.012323\n",
            "V1      0.117396  1.000000e+00 -1.711779e-16  ...  2.168852e-16 -0.227709 -0.101347\n",
            "V2     -0.010593 -1.711779e-16  1.000000e+00  ... -4.900327e-16 -0.531409  0.091289\n",
            "V3     -0.419618 -5.239978e-16 -8.436341e-17  ...  6.939895e-16 -0.210880 -0.192961\n",
            "V4     -0.105260 -2.131660e-16 -1.466856e-16  ... -2.643283e-17  0.098732  0.133447\n",
            "V5      0.173072  2.301361e-16  5.028476e-17  ... -5.101753e-16 -0.386356 -0.094974\n",
            "V6     -0.063016  9.190975e-17  2.195837e-16  ...  4.723115e-16  0.215981 -0.043643\n",
            "V7      0.084714  1.501772e-16 -2.060653e-16  ...  1.110104e-16  0.397311 -0.187257\n",
            "V8     -0.036949 -3.570818e-17 -5.828827e-17  ... -6.771854e-16 -0.103079  0.019875\n",
            "V9     -0.008660  6.083478e-17 -1.135534e-16  ...  7.855982e-16 -0.044246 -0.097733\n",
            "V10     0.030617 -3.711318e-17 -1.204703e-16  ...  3.092873e-16 -0.101502 -0.216883\n",
            "V11    -0.247689  2.417181e-16  4.035603e-16  ... -3.644503e-16  0.000104  0.154876\n",
            "V12     0.124348  1.727390e-16 -5.717644e-16  ...  6.983717e-16 -0.009542 -0.260593\n",
            "V13    -0.065902 -2.161968e-17 -6.361723e-17  ...  9.437529e-16  0.005293 -0.004570\n",
            "V14    -0.098757  4.824872e-16 -1.938933e-16  ...  2.420933e-15  0.033751 -0.302544\n",
            "V15    -0.183453 -6.502268e-17  5.263518e-17  ... -1.086606e-15 -0.002986 -0.004223\n",
            "V16     0.011903  2.170293e-16  7.674042e-17  ...  7.677025e-16 -0.003910 -0.196539\n",
            "V17    -0.073297 -1.550716e-16 -7.359425e-16  ... -1.133641e-16  0.007309 -0.326481\n",
            "V18     0.090438  1.612177e-16  2.350799e-16  ...  8.144573e-16  0.035650 -0.111485\n",
            "V19     0.028975  1.445400e-16  3.666274e-17  ... -1.405110e-15 -0.056151  0.034783\n",
            "V20    -0.050866  3.098401e-16  7.134428e-17  ... -7.530110e-16  0.339403  0.020090\n",
            "V21     0.044736 -1.297410e-16  4.679143e-17  ...  1.172136e-16  0.105999  0.040413\n",
            "V22     0.144059  9.063615e-17  2.087848e-16  ... -4.984651e-16 -0.064801  0.000805\n",
            "V23     0.051142  3.843056e-17  2.702592e-16  ...  1.356484e-15 -0.112633 -0.002685\n",
            "V24    -0.016182 -5.638225e-17 -1.104369e-16  ... -3.021153e-16  0.005146 -0.007221\n",
            "V25    -0.233083 -1.809015e-16  1.734715e-16  ...  4.536402e-16 -0.047837  0.003308\n",
            "V26    -0.041407 -1.290360e-16  2.813205e-16  ... -2.745823e-16 -0.003208  0.004455\n",
            "V27    -0.005135  2.776510e-17 -6.474006e-16  ... -1.112226e-16  0.028825  0.017580\n",
            "V28    -0.009413  2.168852e-16 -4.900327e-16  ...  1.000000e+00  0.010258  0.009536\n",
            "Amount -0.010596 -2.277087e-01 -5.314089e-01  ...  1.025822e-02  1.000000  0.005632\n",
            "Class  -0.012323 -1.013473e-01  9.128865e-02  ...  9.536041e-03  0.005632  1.000000\n",
            "\n",
            "[31 rows x 31 columns]\n",
            "No. of fradulent 492\n",
            "No. of Normal Non fraudulent 284315\n"
          ],
          "name": "stdout"
        }
      ]
    },
    {
      "cell_type": "code",
      "metadata": {
        "id": "FENOFJJ7tmGy",
        "colab_type": "code",
        "colab": {
          "base_uri": "https://localhost:8080/",
          "height": 437
        },
        "outputId": "db2ba15e-a6d6-418d-ce6e-4d66f0ee17a7"
      },
      "source": [
        "#Fraudulent Time with Amount\n",
        "sns.jointplot(x=\"Time\", y=\"Amount\",data=fr);\n",
        "\n"
      ],
      "execution_count": 15,
      "outputs": [
        {
          "output_type": "display_data",
          "data": {
            "image/png": "[encoded data removed]",
            "text/plain": [
              "<Figure size 432x432 with 3 Axes>"
            ]
          },
          "metadata": {
            "tags": []
          }
        }
      ]
    },
    {
      "cell_type": "code",
      "metadata": {
        "id": "AoTyXFKAWUtO",
        "colab_type": "code",
        "colab": {
          "base_uri": "https://localhost:8080/",
          "height": 437
        },
        "outputId": "46b3f039-d0ba-4baf-c8a6-2d7c22a21064"
      },
      "source": [
        "#Non Fraudulent Time with Amount\n",
        "sns.jointplot(x=\"Time\", y=\"Amount\",data=nfr);\n"
      ],
      "execution_count": 16,
      "outputs": [
        {
          "output_type": "display_data",
          "data": {
            "image/png": "[encoded data removed]",
            "text/plain": [
              "<Figure size 432x432 with 3 Axes>"
            ]
          },
          "metadata": {
            "tags": []
          }
        }
      ]
    },
    {
      "cell_type": "code",
      "metadata": {
        "id": "Kot40ltQ1EDu",
        "colab_type": "code",
        "colab": {
          "base_uri": "https://localhost:8080/",
          "height": 365
        },
        "outputId": "318680d7-d4a3-40ae-a935-fb242e703744"
      },
      "source": [
        "#Plotting Fraud & Normal Amount with class\n",
        "sns.catplot(y=\"Amount\", x=\"Class\",kind=\"box\", data=df);"
      ],
      "execution_count": 17,
      "outputs": [
        {
          "output_type": "display_data",
          "data": {
            "image/png": "[encoded data removed]",
            "text/plain": [
              "<Figure size 360x360 with 1 Axes>"
            ]
          },
          "metadata": {
            "tags": []
          }
        }
      ]
    },
    {
      "cell_type": "code",
      "metadata": {
        "id": "f9Wvaef8ygaB",
        "colab_type": "code",
        "colab": {}
      },
      "source": [
        "#Import libraries for ML\n",
        "from sklearn import linear_model\n",
        "from sklearn.model_selection import train_test_split \n",
        "from sklearn.svm import SVC\n",
        "from sklearn.linear_model import LinearRegression, Ridge, Lasso\n",
        "from sklearn import svm\n",
        "from sklearn.ensemble import GradientBoostingRegressor"
      ],
      "execution_count": 0,
      "outputs": []
    },
    {
      "cell_type": "code",
      "metadata": {
        "id": "81185UCv1Xun",
        "colab_type": "code",
        "colab": {
          "base_uri": "https://localhost:8080/",
          "height": 68
        },
        "outputId": "84c877ce-5818-4717-9893-398da561d5e9"
      },
      "source": [
        "x=df.iloc[:,:-1]   #All Col but last\n",
        "y=df['Class']   #Last Col\n",
        "X_train,X_test,Y_train,Y_test=train_test_split(x,y,test_size=0.35) #Train 65%, Test 35%\n",
        "print(pd.DataFrame({'Train':[len(X_train),len(Y_train)],'Test':[len(X_test),len(Y_test)]},index=['X','Y']))"
      ],
      "execution_count": 21,
      "outputs": [
        {
          "output_type": "stream",
          "text": [
            "    Train   Test\n",
            "X  185124  99683\n",
            "Y  185124  99683\n"
          ],
          "name": "stdout"
        }
      ]
    },
    {
      "cell_type": "code",
      "metadata": {
        "id": "BhMA6UYk5H1z",
        "colab_type": "code",
        "colab": {
          "base_uri": "https://localhost:8080/",
          "height": 88
        },
        "outputId": "e6d8da95-0bb6-4022-cfc3-52d35620d885"
      },
      "source": [
        "#Logistic Regression\n",
        "logistic=linear_model.LogisticRegression(C=1e5)   #C is penalty parameter to avoid overfitting on training dataset, 1e5 is 10^5\n",
        "logistic.fit(X_train,Y_train)\n",
        "print('score: ',logistic.score(X_test,Y_test))"
      ],
      "execution_count": 22,
      "outputs": [
        {
          "output_type": "stream",
          "text": [
            "/usr/local/lib/python3.6/dist-packages/sklearn/linear_model/logistic.py:432: FutureWarning: Default solver will be changed to 'lbfgs' in 0.22. Specify a solver to silence this warning.\n",
            "  FutureWarning)\n"
          ],
          "name": "stderr"
        },
        {
          "output_type": "stream",
          "text": [
            "score:  0.9989366291142923\n"
          ],
          "name": "stdout"
        }
      ]
    },
    {
      "cell_type": "code",
      "metadata": {
        "id": "j4SnMNHWE52e",
        "colab_type": "code",
        "colab": {
          "base_uri": "https://localhost:8080/",
          "height": 34
        },
        "outputId": "2c4234b1-7eed-46b2-f671-cc30dc79db10"
      },
      "source": [
        "#Ridge Regression\n",
        "ridge=Ridge()\n",
        "ridge.fit(X_train, Y_train)\n",
        "print('score: ',ridge.score(X_test,Y_test))"
      ],
      "execution_count": 23,
      "outputs": [
        {
          "output_type": "stream",
          "text": [
            "score:  0.5709609944241749\n"
          ],
          "name": "stdout"
        }
      ]
    },
    {
      "cell_type": "markdown",
      "metadata": {
        "id": "gryF499sX3L8",
        "colab_type": "text"
      },
      "source": [
        "Conclusion: Logistic Regression is performing much better than Ridge Regression.\n"
      ]
    }
  ]
}